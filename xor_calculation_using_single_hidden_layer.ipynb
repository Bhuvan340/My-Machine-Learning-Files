{
  "nbformat": 4,
  "nbformat_minor": 0,
  "metadata": {
    "colab": {
      "provenance": [],
      "authorship_tag": "ABX9TyPXHFRo7xc3pXHrEyuldmn/",
      "include_colab_link": true
    },
    "kernelspec": {
      "name": "python3",
      "display_name": "Python 3"
    },
    "language_info": {
      "name": "python"
    }
  },
  "cells": [
    {
      "cell_type": "markdown",
      "metadata": {
        "id": "view-in-github",
        "colab_type": "text"
      },
      "source": [
        "<a href=\"https://colab.research.google.com/github/Bhuvan340/My-Machine-Learning-Files/blob/main/xor_calculation_using_single_hidden_layer.ipynb\" target=\"_parent\"><img src=\"https://colab.research.google.com/assets/colab-badge.svg\" alt=\"Open In Colab\"/></a>"
      ]
    },
    {
      "cell_type": "code",
      "execution_count": 1,
      "metadata": {
        "id": "Ke8g2oXcPTes"
      },
      "outputs": [],
      "source": [
        "import numpy as np\n",
        "import matplotlib.pyplot as plt"
      ]
    },
    {
      "cell_type": "code",
      "source": [
        "# These are XOR inputs\n",
        "x=np.array([[0,0,1,1],[0,1,0,1]])\n",
        "# These are XOR outputs\n",
        "y=np.array([[0,1,1,0]])\n",
        "# Number of inputs\n",
        "n_x = 2\n",
        "# Number of neurons in output layer\n",
        "n_y = 1\n",
        "# Number of neurons in hidden layer\n",
        "n_h = 2\n",
        "# Total training examples\n",
        "m = x.shape[1]\n",
        "# Learning rate\n",
        "lr = 0.01\n",
        "# Define random seed for consistent results\n",
        "np.random.seed(2)\n",
        "# Define weight matrices for neural network\n",
        "w1 = np.random.rand(n_h,n_x)   # Weight matrix for hidden layer\n",
        "w2 = np.random.rand(n_y,n_h)   # Weight matrix for output layer\n",
        "# I didnt use bias units\n",
        "# We will use this list to accumulate losses\n",
        "losses = []\n"
      ],
      "metadata": {
        "id": "zvx2lvxDTJ62"
      },
      "execution_count": 2,
      "outputs": []
    },
    {
      "cell_type": "code",
      "source": [
        "# I used sigmoid activation function for hidden layer and output\n",
        "def sigmoid(z):\n",
        "    z= 1/(1+np.exp(-z))\n",
        "    return z\n",
        "\n",
        "# Forward propagation\n",
        "def forward_prop(w1,w2,x):\n",
        "    z1 = np.dot(w1,x)\n",
        "    a1 = sigmoid(z1)\n",
        "    z2 = np.dot(w2,a1)\n",
        "    a2 = sigmoid(z2)\n",
        "    return z1,a1,z2,a2\n",
        "\n",
        "# Backward propagation\n",
        "def back_prop(m,w1,w2,z1,a1,z2,a2,y):\n",
        "\n",
        "    dz2 = a2-y\n",
        "    dw2 = np.dot(dz2,a1.T)/m\n",
        "    dz1 = np.dot(w2.T,dz2) * a1*(1-a1)\n",
        "    dw1 = np.dot(dz1,x.T)/m\n",
        "    dw1 = np.reshape(dw1,w1.shape)\n",
        "\n",
        "    dw2 = np.reshape(dw2,w2.shape)\n",
        "    return dz2,dw2,dz1,dw1\n",
        ""
      ],
      "metadata": {
        "id": "0R-cR8h_TMOb"
      },
      "execution_count": 3,
      "outputs": []
    },
    {
      "cell_type": "code",
      "source": [
        "iterations = 10000\n",
        "for i in range(iterations):\n",
        "    z1,a1,z2,a2 = forward_prop(w1,w2,x)\n",
        "    loss = -(1/m)*np.sum(y*np.log(a2)+(1-y)*np.log(1-a2))\n",
        "    losses.append(loss)\n",
        "    da2,dw2,dz1,dw1 = back_prop(m,w1,w2,z1,a1,z2,a2,y)\n",
        "    w2 = w2-lr*dw2\n",
        "    w1 = w1-lr*dw1\n",
        "\n",
        "# We plot losses to see how our network is doing\n",
        "plt.plot(losses)\n",
        "plt.xlabel(\"EPOCHS\")\n",
        "plt.ylabel(\"Loss value\")"
      ],
      "metadata": {
        "colab": {
          "base_uri": "https://localhost:8080/",
          "height": 466
        },
        "id": "ewxM3HQaTPAo",
        "outputId": "82e57c91-d246-47dd-f36a-dadbf674ca54"
      },
      "execution_count": 4,
      "outputs": [
        {
          "output_type": "execute_result",
          "data": {
            "text/plain": [
              "Text(0, 0.5, 'Loss value')"
            ]
          },
          "metadata": {},
          "execution_count": 4
        },
        {
          "output_type": "display_data",
          "data": {
            "text/plain": [
              "<Figure size 640x480 with 1 Axes>"
            ],
            "image/png": "[encoded data removed]"
          },
          "metadata": {}
        }
      ]
    },
    {
      "cell_type": "code",
      "source": [
        "def predict(w1,w2,input):\n",
        "    z1,a1,z2,a2 = forward_prop(w1,w2,test)\n",
        "    a2 = np.squeeze(a2)\n",
        "    if a2>=0.5:\n",
        "        print(\"For input\", [i[0] for i in input], \"output is 1\")# ['{:.2f}'.format(i) for i in x])\n",
        "    else:\n",
        "        print(\"For input\", [i[0] for i in input], \"output is 0\")"
      ],
      "metadata": {
        "id": "EVPZMcAyTRIl"
      },
      "execution_count": 5,
      "outputs": []
    },
    {
      "cell_type": "code",
      "source": [
        "test = np.array([[1],[0]])\n",
        "predict(w1,w2,test)\n",
        "test = np.array([[0],[0]])\n",
        "predict(w1,w2,test)\n",
        "test = np.array([[0],[1]])\n",
        "predict(w1,w2,test)\n",
        "test = np.array([[1],[1]])\n",
        "predict(w1,w2,test)"
      ],
      "metadata": {
        "colab": {
          "base_uri": "https://localhost:8080/"
        },
        "id": "Sw3xTGDaTTtb",
        "outputId": "db1027b8-c3c0-403b-b9c2-1e7fa7238175"
      },
      "execution_count": 6,
      "outputs": [
        {
          "output_type": "stream",
          "name": "stdout",
          "text": [
            "For input [1, 0] output is 1\n",
            "For input [0, 0] output is 1\n",
            "For input [0, 1] output is 1\n",
            "For input [1, 1] output is 1\n"
          ]
        }
      ]
    },
    {
      "cell_type": "code",
      "source": [],
      "metadata": {
        "id": "7FbFt_dNTVpE"
      },
      "execution_count": null,
      "outputs": []
    }
  ]
}