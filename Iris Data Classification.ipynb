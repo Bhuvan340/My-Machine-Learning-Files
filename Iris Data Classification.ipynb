{
  "nbformat": 4,
  "nbformat_minor": 0,
  "metadata": {
    "colab": {
      "provenance": [],
      "authorship_tag": "ABX9TyOAwLKugmbkd+F3zZREb7fr",
      "include_colab_link": true
    },
    "kernelspec": {
      "name": "python3",
      "display_name": "Python 3"
    },
    "language_info": {
      "name": "python"
    }
  },
  "cells": [
    {
      "cell_type": "markdown",
      "metadata": {
        "id": "view-in-github",
        "colab_type": "text"
      },
      "source": [
        "<a href=\"https://colab.research.google.com/github/Bhuvan340/My-Machine-Learning-Files/blob/main/Iris%20Data%20Classification.ipynb\" target=\"_parent\"><img src=\"https://colab.research.google.com/assets/colab-badge.svg\" alt=\"Open In Colab\"/></a>"
      ]
    },
    {
      "cell_type": "code",
      "execution_count": null,
      "metadata": {
        "colab": {
          "base_uri": "https://localhost:8080/"
        },
        "id": "Ss8IRtZfgBrs",
        "outputId": "f9b6d790-baae-405b-b994-0c7891cfb478"
      },
      "outputs": [
        {
          "name": "stdout",
          "output_type": "stream",
          "text": [
            "Enter new data (SepalLengthCm, SepalWidthCm, PetalLengthCm, PetalWidthCm) or 'exit' to quit:\n",
            "4.9,3,1.4,0.2\n"
          ]
        },
        {
          "output_type": "stream",
          "name": "stderr",
          "text": [
            "/usr/local/lib/python3.10/dist-packages/sklearn/base.py:439: UserWarning: X does not have valid feature names, but RandomForestClassifier was fitted with feature names\n",
            "  warnings.warn(\n"
          ]
        },
        {
          "output_type": "stream",
          "name": "stdout",
          "text": [
            "Predicted Class: Iris-setosa\n",
            "Enter new data (SepalLengthCm, SepalWidthCm, PetalLengthCm, PetalWidthCm) or 'exit' to quit:\n"
          ]
        }
      ],
      "source": [
        "import pandas as pd\n",
        "from sklearn.model_selection import train_test_split\n",
        "from sklearn.preprocessing import LabelEncoder\n",
        "from sklearn.ensemble import RandomForestClassifier\n",
        "\n",
        "# Load the dataset from a CSV file\n",
        "data = pd.read_csv('Iris.csv')  # Replace with your file path.\n",
        "\n",
        "# Extract features and target variable\n",
        "X = data[['SepalLengthCm', 'SepalWidthCm', 'PetalLengthCm', 'PetalWidthCm']]\n",
        "y = data['Species']\n",
        "\n",
        "# Encode the target variable (Species)\n",
        "label_encoder = LabelEncoder()\n",
        "y = label_encoder.fit_transform(y)\n",
        "\n",
        "# Split the dataset into training and testing sets\n",
        "X_train, X_test, y_train, y_test = train_test_split(X, y, test_size=0.2, random_state=42)\n",
        "\n",
        "# Initialize and train a Random Forest classifier\n",
        "clf = RandomForestClassifier(n_estimators=100, random_state=42)\n",
        "clf.fit(X_train, y_train)\n",
        "\n",
        "while True:\n",
        "    print(\"Enter new data (SepalLengthCm, SepalWidthCm, PetalLengthCm, PetalWidthCm) or 'exit' to quit:\")\n",
        "    user_input = input()\n",
        "\n",
        "    if user_input.lower() == 'exit':\n",
        "        break\n",
        "\n",
        "    try:\n",
        "        # Parse user input as a list of floats\n",
        "        new_data = [float(x) for x in user_input.split(',')]\n",
        "\n",
        "        # Predict the class of the new data\n",
        "        predicted_class = clf.predict([new_data])\n",
        "\n",
        "        # Reverse label encoding to get the original class name\n",
        "        predicted_class_name = label_encoder.inverse_transform(predicted_class)[0]\n",
        "\n",
        "        print(f'Predicted Class: {predicted_class_name}')\n",
        "    except ValueError:\n",
        "        print(\"Invalid input format. Please enter the values as comma-separated floats.\")\n"
      ]
    }
  ]
}